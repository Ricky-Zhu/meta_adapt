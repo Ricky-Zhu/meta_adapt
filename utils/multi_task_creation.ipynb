{
 "cells": [
  {
   "cell_type": "code",
   "execution_count": 1,
   "id": "initial_id",
   "metadata": {
    "collapsed": true,
    "ExecuteTime": {
     "end_time": "2024-06-26T07:50:35.773920Z",
     "start_time": "2024-06-26T07:50:34.537183Z"
    }
   },
   "outputs": [],
   "source": [
    "%matplotlib inline\n",
    "import h5py\n",
    "import numpy as np\n",
    "from libero.lifelong.datasets import *\n",
    "from libero.libero.utils.dataset_utils import get_dataset_info\n",
    "from IPython.display import HTML\n",
    "import imageio\n",
    "from libero.libero import benchmark, get_libero_path, set_libero_default_path\n",
    "import os\n",
    "from termcolor import colored\n",
    "import torch\n",
    "import torchvision\n",
    "from PIL import Image\n",
    "import matplotlib.pyplot as plt\n",
    "from matplotlib.pyplot import figure\n",
    "import cv2\n",
    "from libero.lifelong.models import *\n",
    "from libero.lifelong.utils import *"
   ]
  },
  {
   "cell_type": "code",
   "outputs": [],
   "source": [
    "benchmark_dict = benchmark.get_benchmark_dict()"
   ],
   "metadata": {
    "collapsed": false,
    "ExecuteTime": {
     "end_time": "2024-06-26T07:51:01.563761Z",
     "start_time": "2024-06-26T07:51:01.559894Z"
    }
   },
   "id": "831b9f593de0e241",
   "execution_count": 2
  },
  {
   "cell_type": "code",
   "outputs": [
    {
     "data": {
      "text/plain": "{'libero_spatial': libero.libero.benchmark.LIBERO_SPATIAL,\n 'libero_object': libero.libero.benchmark.LIBERO_OBJECT,\n 'libero_goal': libero.libero.benchmark.LIBERO_GOAL,\n 'libero_90': libero.libero.benchmark.LIBERO_90,\n 'libero_10': libero.libero.benchmark.LIBERO_10,\n 'libero_100': libero.libero.benchmark.LIBERO_100}"
     },
     "execution_count": 3,
     "metadata": {},
     "output_type": "execute_result"
    }
   ],
   "source": [
    "\n",
    "    "
   ],
   "metadata": {
    "collapsed": false,
    "ExecuteTime": {
     "end_time": "2024-06-26T07:51:06.435674Z",
     "start_time": "2024-06-26T07:51:06.428422Z"
    }
   },
   "id": "877b01a04d61312a",
   "execution_count": 3
  },
  {
   "cell_type": "code",
   "outputs": [],
   "source": [
    "def get_description(benchmark_instance):\n",
    "    n_tasks = benchmark_instance.n_tasks\n",
    "    for i in range(n_tasks):\n",
    "        print(f'task {i}, {benchmark_instance.get_task(i).language}')"
   ],
   "metadata": {
    "collapsed": false,
    "ExecuteTime": {
     "end_time": "2024-06-26T07:54:12.195108Z",
     "start_time": "2024-06-26T07:54:12.190650Z"
    }
   },
   "id": "949d6d8bbd7cf91b",
   "execution_count": 4
  },
  {
   "cell_type": "code",
   "outputs": [
    {
     "name": "stdout",
     "output_type": "stream",
     "text": [
      "task 0, close the top drawer of the cabinet\n",
      "task 1, close the top drawer of the cabinet and put the black bowl on top of it\n",
      "task 2, put the black bowl in the top drawer of the cabinet\n",
      "task 3, put the butter at the back in the top drawer of the cabinet and close it\n",
      "task 4, put the butter at the front in the top drawer of the cabinet and close it\n",
      "task 5, put the chocolate pudding in the top drawer of the cabinet and close it\n",
      "task 6, open the bottom drawer of the cabinet\n",
      "task 7, open the top drawer of the cabinet\n",
      "task 8, open the top drawer of the cabinet and put the bowl in it\n",
      "task 9, put the black bowl on the plate\n",
      "task 10, put the black bowl on top of the cabinet\n",
      "task 11, open the top drawer of the cabinet\n",
      "task 12, put the black bowl at the back on the plate\n",
      "task 13, put the black bowl at the front on the plate\n",
      "task 14, put the middle black bowl on the plate\n",
      "task 15, put the middle black bowl on top of the cabinet\n",
      "task 16, stack the black bowl at the front on the black bowl in the middle\n",
      "task 17, stack the middle black bowl on the back black bowl\n",
      "task 18, put the frying pan on the stove\n",
      "task 19, put the moka pot on the stove\n",
      "task 20, turn on the stove\n",
      "task 21, turn on the stove and put the frying pan on it\n",
      "task 22, close the bottom drawer of the cabinet\n",
      "task 23, close the bottom drawer of the cabinet and open the top drawer\n",
      "task 24, put the black bowl in the bottom drawer of the cabinet\n",
      "task 25, put the black bowl on top of the cabinet\n",
      "task 26, put the wine bottle in the bottom drawer of the cabinet\n",
      "task 27, put the wine bottle on the wine rack\n",
      "task 28, close the top drawer of the cabinet\n",
      "task 29, put the black bowl in the top drawer of the cabinet\n",
      "task 30, put the black bowl on the plate\n",
      "task 31, put the black bowl on top of the cabinet\n",
      "task 32, put the ketchup in the top drawer of the cabinet\n",
      "task 33, close the microwave\n",
      "task 34, put the yellow and white mug to the front of the white mug\n",
      "task 35, open the microwave\n",
      "task 36, put the white bowl on the plate\n",
      "task 37, put the white bowl to the right of the plate\n",
      "task 38, put the right moka pot on the stove\n",
      "task 39, turn off the stove\n",
      "task 40, put the frying pan on the cabinet shelf\n",
      "task 41, put the frying pan on top of the cabinet\n",
      "task 42, put the frying pan under the cabinet shelf\n",
      "task 43, put the white bowl on top of the cabinet\n",
      "task 44, turn on the stove\n",
      "task 45, turn on the stove and put the frying pan on it\n",
      "task 46, pick up the alphabet soup and put it in the basket\n",
      "task 47, pick up the cream cheese box and put it in the basket\n",
      "task 48, pick up the ketchup and put it in the basket\n",
      "task 49, pick up the tomato sauce and put it in the basket\n",
      "task 50, pick up the alphabet soup and put it in the basket\n",
      "task 51, pick up the butter and put it in the basket\n",
      "task 52, pick up the milk and put it in the basket\n",
      "task 53, pick up the orange juice and put it in the basket\n",
      "task 54, pick up the tomato sauce and put it in the basket\n",
      "task 55, pick up the alphabet soup and put it in the tray\n",
      "task 56, pick up the butter and put it in the tray\n",
      "task 57, pick up the cream cheese and put it in the tray\n",
      "task 58, pick up the ketchup and put it in the tray\n",
      "task 59, pick up the tomato sauce and put it in the tray\n",
      "task 60, pick up the black bowl on the left and put it in the tray\n",
      "task 61, pick up the chocolate pudding and put it in the tray\n",
      "task 62, pick up the salad dressing and put it in the tray\n",
      "task 63, stack the left bowl on the right bowl and place them in the tray\n",
      "task 64, stack the right bowl on the left bowl and place them in the tray\n",
      "task 65, put the red mug on the left plate\n",
      "task 66, put the red mug on the right plate\n",
      "task 67, put the white mug on the left plate\n",
      "task 68, put the yellow and white mug on the right plate\n",
      "task 69, put the chocolate pudding to the left of the plate\n",
      "task 70, put the chocolate pudding to the right of the plate\n",
      "task 71, put the red mug on the plate\n",
      "task 72, put the white mug on the plate\n",
      "task 73, pick up the book and place it in the front compartment of the caddy\n",
      "task 74, pick up the book and place it in the left compartment of the caddy\n",
      "task 75, pick up the book and place it in the right compartment of the caddy\n",
      "task 76, pick up the yellow and white mug and place it to the right of the caddy\n",
      "task 77, pick up the book and place it in the back compartment of the caddy\n",
      "task 78, pick up the book and place it in the front compartment of the caddy\n",
      "task 79, pick up the book and place it in the left compartment of the caddy\n",
      "task 80, pick up the book and place it in the right compartment of the caddy\n",
      "task 81, pick up the book and place it in the front compartment of the caddy\n",
      "task 82, pick up the book and place it in the left compartment of the caddy\n",
      "task 83, pick up the book and place it in the right compartment of the caddy\n",
      "task 84, pick up the red mug and place it to the right of the caddy\n",
      "task 85, pick up the white mug and place it to the right of the caddy\n",
      "task 86, pick up the book in the middle and place it on the cabinet shelf\n",
      "task 87, pick up the book on the left and place it on top of the shelf\n",
      "task 88, pick up the book on the right and place it on the cabinet shelf\n",
      "task 89, pick up the book on the right and place it under the cabinet shelf\n"
     ]
    }
   ],
   "source": [
    "get_description(benchmark_dict['libero_90'](0))"
   ],
   "metadata": {
    "collapsed": false,
    "ExecuteTime": {
     "end_time": "2024-06-26T07:58:03.996161Z",
     "start_time": "2024-06-26T07:58:03.991143Z"
    }
   },
   "id": "7aa77f5cf9efcd39",
   "execution_count": 12
  },
  {
   "cell_type": "code",
   "outputs": [
    {
     "name": "stdout",
     "output_type": "stream",
     "text": [
      "[info] using task orders [0, 1, 2, 3, 4, 5, 6, 7, 8, 9]\n",
      "task 0, put both the alphabet soup and the tomato sauce in the basket\n",
      "task 1, put both the cream cheese box and the butter in the basket\n",
      "task 2, turn on the stove and put the moka pot on it\n",
      "task 3, put the black bowl in the bottom drawer of the cabinet and close it\n",
      "task 4, put the white mug on the left plate and put the yellow and white mug on the right plate\n",
      "task 5, pick up the book and place it in the back compartment of the caddy\n",
      "task 6, put the white mug on the plate and put the chocolate pudding to the right of the plate\n",
      "task 7, put both the alphabet soup and the cream cheese box in the basket\n",
      "task 8, put both moka pots on the stove\n",
      "task 9, put the yellow and white mug in the microwave and close it\n"
     ]
    }
   ],
   "source": [
    "get_description(benchmark_dict['libero_10'](0))"
   ],
   "metadata": {
    "collapsed": false,
    "ExecuteTime": {
     "end_time": "2024-06-26T07:58:30.092632Z",
     "start_time": "2024-06-26T07:58:30.087610Z"
    }
   },
   "id": "732f7b2cd8093f01",
   "execution_count": 13
  },
  {
   "cell_type": "code",
   "outputs": [],
   "source": [],
   "metadata": {
    "collapsed": false
   },
   "id": "20cfe0028330c1b0"
  }
 ],
 "metadata": {
  "kernelspec": {
   "display_name": "Python 3",
   "language": "python",
   "name": "python3"
  },
  "language_info": {
   "codemirror_mode": {
    "name": "ipython",
    "version": 2
   },
   "file_extension": ".py",
   "mimetype": "text/x-python",
   "name": "python",
   "nbconvert_exporter": "python",
   "pygments_lexer": "ipython2",
   "version": "2.7.6"
  }
 },
 "nbformat": 4,
 "nbformat_minor": 5
}

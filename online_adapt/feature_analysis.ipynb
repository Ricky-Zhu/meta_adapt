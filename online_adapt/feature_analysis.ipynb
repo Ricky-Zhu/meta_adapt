{
 "cells": [
  {
   "cell_type": "code",
   "execution_count": 1,
   "id": "initial_id",
   "metadata": {
    "collapsed": true,
    "ExecuteTime": {
     "end_time": "2024-07-05T09:48:00.051505Z",
     "start_time": "2024-07-05T09:47:58.892498Z"
    }
   },
   "outputs": [],
   "source": [
    "%matplotlib inline\n",
    "import h5py\n",
    "import numpy as np\n",
    "from libero.lifelong.datasets import *\n",
    "from libero.libero.utils.dataset_utils import get_dataset_info\n",
    "from IPython.display import HTML\n",
    "import imageio\n",
    "from libero.libero import benchmark, get_libero_path, set_libero_default_path\n",
    "import os\n",
    "from termcolor import colored\n",
    "import torch\n",
    "import torchvision\n",
    "from PIL import Image\n",
    "import matplotlib.pyplot as plt\n",
    "from matplotlib.pyplot import figure\n",
    "import cv2\n",
    "from libero.lifelong.models import *\n",
    "from libero.lifelong.utils import *\n",
    "from lora_parts.policy import *\n",
    "from easydict import EasyDict\n",
    "import yaml\n",
    "from omegaconf import OmegaConf"
   ]
  },
  {
   "cell_type": "code",
   "outputs": [],
   "source": [
    "import json\n",
    "\n",
    "with open('./config.json', 'rb') as f:\n",
    "    adapt_config = json.load(f)\n",
    "    f.close()"
   ],
   "metadata": {
    "collapsed": false,
    "ExecuteTime": {
     "end_time": "2024-07-05T09:48:00.056596Z",
     "start_time": "2024-07-05T09:48:00.053175Z"
    }
   },
   "id": "2f7daeafa40bee37",
   "execution_count": 2
  },
  {
   "cell_type": "code",
   "outputs": [],
   "source": [
    "\n",
    "adapt_config = OmegaConf.to_yaml(adapt_config)\n",
    "adapt_config = EasyDict(yaml.safe_load(adapt_config))"
   ],
   "metadata": {
    "collapsed": false,
    "ExecuteTime": {
     "end_time": "2024-07-05T09:48:00.071396Z",
     "start_time": "2024-07-05T09:48:00.057696Z"
    }
   },
   "id": "1dc109c6a1b455d8",
   "execution_count": 3
  },
  {
   "cell_type": "code",
   "outputs": [],
   "source": [
    "policy_type = 'LoraBCTPolicy'\n",
    "lora_model_path = './meta_params_task_9.pth'\n",
    "model_path = '/home/ruiqi/projects/meta_adapt/scripts/experiments/LIBERO_OBJECT/PreTrainMultitask/BCTransformerPolicy_seed10000/run_003/multitask_model.pth'\n",
    "task_num = 10"
   ],
   "metadata": {
    "collapsed": false,
    "ExecuteTime": {
     "end_time": "2024-07-05T09:48:00.076988Z",
     "start_time": "2024-07-05T09:48:00.073874Z"
    }
   },
   "id": "38fe4b41c77c127f",
   "execution_count": 4
  },
  {
   "cell_type": "code",
   "outputs": [],
   "source": [
    "checkpoint = torch.load(model_path)\n",
    "sd = checkpoint['state_dict']\n",
    "cfg = checkpoint['cfg']\n",
    "cfg.adaptation = adapt_config\n",
    "\n",
    "control_seed(adapt_config.seed)\n",
    "cfg.folder = get_libero_path(\"datasets\")\n",
    "cfg.bddl_folder = get_libero_path(\"bddl_files\")\n",
    "cfg.init_states_folder = get_libero_path(\"init_states\")\n",
    "model = get_policy_class(policy_type)(cfg, cfg.shape_meta)\n",
    "model.load_state_dict(sd, strict=False)\n",
    "lora_sd = torch.load(lora_model_path)\n",
    "model.load_state_dict(lora_sd, strict=False)\n",
    "TASK_SUITE = cfg['task_creation']['task_suite']"
   ],
   "metadata": {
    "collapsed": false,
    "ExecuteTime": {
     "end_time": "2024-07-05T09:48:08.105970Z",
     "start_time": "2024-07-05T09:48:04.425064Z"
    }
   },
   "id": "c67b2b9520cee04c",
   "execution_count": 5
  },
  {
   "cell_type": "code",
   "outputs": [
    {
     "name": "stdout",
     "output_type": "stream",
     "text": [
      "[info] using task orders [0, 1, 2, 3, 4, 5, 6, 7, 8, 9]\n"
     ]
    }
   ],
   "source": [
    "benchmark_instance = benchmark.get_benchmark_dict()[\"libero_object\"]()"
   ],
   "metadata": {
    "collapsed": false,
    "ExecuteTime": {
     "end_time": "2024-07-05T09:48:08.809077Z",
     "start_time": "2024-07-05T09:48:08.806405Z"
    }
   },
   "id": "a4017ae4be88eb5a",
   "execution_count": 6
  },
  {
   "cell_type": "code",
   "outputs": [],
   "source": [
    "bddl_files_default_path = get_libero_path(\"bddl_files\")"
   ],
   "metadata": {
    "collapsed": false,
    "ExecuteTime": {
     "end_time": "2024-07-05T09:48:10.944540Z",
     "start_time": "2024-07-05T09:48:10.939463Z"
    }
   },
   "id": "6f904ca28fd4afdc",
   "execution_count": 7
  },
  {
   "cell_type": "code",
   "outputs": [],
   "source": [
    "descriptions = []\n",
    "for i in range(10):\n",
    "    descriptions.append(benchmark_instance.get_task(i).language)\n"
   ],
   "metadata": {
    "collapsed": false,
    "ExecuteTime": {
     "end_time": "2024-07-05T09:48:12.694095Z",
     "start_time": "2024-07-05T09:48:12.690916Z"
    }
   },
   "id": "bbaae450a24d9c13",
   "execution_count": 8
  },
  {
   "cell_type": "code",
   "outputs": [],
   "source": [
    "task_embs = get_task_embs(cfg, descriptions)\n"
   ],
   "metadata": {
    "collapsed": false,
    "ExecuteTime": {
     "end_time": "2024-07-05T09:48:18.227464Z",
     "start_time": "2024-07-05T09:48:15.268033Z"
    }
   },
   "id": "87ba9d20a0dad2c2",
   "execution_count": 9
  },
  {
   "cell_type": "markdown",
   "source": [
    "# get dataset"
   ],
   "metadata": {
    "collapsed": false
   },
   "id": "76f3734f570fac69"
  },
  {
   "cell_type": "code",
   "outputs": [],
   "source": [
    "def get_emb(task_i_dataset, task_id):\n",
    "    data = {}\n",
    "    data['task_emb'] = []\n",
    "    data['obs'] = {}\n",
    "    data['obs']['agentview_rgb'] = []\n",
    "    data['obs']['eye_in_hand_rgb'] = []\n",
    "    data['obs']['gripper_states'] = []\n",
    "    data['obs']['joint_states'] = []\n",
    "\n",
    "    for demo in task_i_dataset.demos:\n",
    "        start_id = task_i_dataset._demo_id_to_start_indices[demo]\n",
    "        obs = task_i_dataset[start_id]['obs']\n",
    "        data['task_emb'].append(task_embs[task_id])\n",
    "        for k in obs.keys():\n",
    "            data['obs'][k].append(torch.from_numpy(obs[k]))\n",
    "\n",
    "    data['task_emb'] = torch.stack(data['task_emb'], dim=0)\n",
    "    for k in data['obs'].keys():\n",
    "        data['obs'][k] = torch.stack(data['obs'][k], dim=0)\n",
    "\n",
    "    x = model.spatial_encode(data)\n",
    "    x = model.temporal_encode(x)\n",
    "    return data, x.squeeze(1).detach().numpy()\n"
   ],
   "metadata": {
    "collapsed": false,
    "ExecuteTime": {
     "end_time": "2024-07-05T09:48:26.798435Z",
     "start_time": "2024-07-05T09:48:26.794160Z"
    }
   },
   "id": "5aee8f83b2d4e209",
   "execution_count": 10
  },
  {
   "cell_type": "code",
   "outputs": [
    {
     "name": "stdout",
     "output_type": "stream",
     "text": [
      "\n",
      "============= Initialized Observation Utils with Obs Spec =============\n",
      "\n",
      "using obs modality: rgb with keys: ['eye_in_hand_rgb', 'agentview_rgb']\n",
      "using obs modality: depth with keys: []\n",
      "using obs modality: low_dim with keys: ['joint_states', 'gripper_states']\n",
      "SequenceDataset: loading dataset into memory...\n",
      "100%|██████████| 50/50 [00:00<00:00, 1045.62it/s]\n",
      "SequenceDataset: loading dataset into memory...\n",
      "100%|██████████| 50/50 [00:00<00:00, 2811.76it/s]\n",
      "SequenceDataset: loading dataset into memory...\n",
      "100%|██████████| 50/50 [00:00<00:00, 685.00it/s]\n",
      "SequenceDataset: loading dataset into memory...\n",
      "100%|██████████| 50/50 [00:00<00:00, 899.50it/s]\n",
      "SequenceDataset: loading dataset into memory...\n",
      "100%|██████████| 50/50 [00:00<00:00, 904.97it/s]\n",
      "SequenceDataset: loading dataset into memory...\n",
      "100%|██████████| 50/50 [00:00<00:00, 681.23it/s]\n",
      "SequenceDataset: loading dataset into memory...\n",
      "100%|██████████| 50/50 [00:00<00:00, 722.99it/s]\n",
      "SequenceDataset: loading dataset into memory...\n",
      "100%|██████████| 50/50 [00:00<00:00, 668.98it/s]\n",
      "SequenceDataset: loading dataset into memory...\n",
      "100%|██████████| 50/50 [00:00<00:00, 860.28it/s]\n",
      "SequenceDataset: loading dataset into memory...\n",
      "100%|██████████| 50/50 [00:00<00:00, 674.70it/s]\n"
     ]
    }
   ],
   "source": [
    "all_task_data_emb = []\n",
    "all_task_data = []\n",
    "for task_id in range(task_num):\n",
    "    task_dataset, shape_meta = get_dataset(\n",
    "        dataset_path=os.path.join(\n",
    "            cfg.folder, benchmark_instance.get_task_demonstration(task_id)\n",
    "        ),\n",
    "        obs_modality=cfg.data.obs.modality,\n",
    "        initialize_obs_utils=(task_id == 0),\n",
    "        seq_len=1,\n",
    "    )\n",
    "    data, emb = get_emb(task_dataset, task_id)\n",
    "    all_task_data.append(data)\n",
    "    all_task_data_emb.append(emb)\n",
    "\n"
   ],
   "metadata": {
    "collapsed": false,
    "ExecuteTime": {
     "end_time": "2024-07-05T09:48:38.032097Z",
     "start_time": "2024-07-05T09:48:32.284481Z"
    }
   },
   "id": "9e76bd8a8fe104bb",
   "execution_count": 11
  },
  {
   "cell_type": "code",
   "outputs": [],
   "source": [
    "labels = []\n",
    "for i in range(len(all_task_data_emb)):\n",
    "    labels = labels + [i for _ in range(len(all_task_data_emb[i]))]"
   ],
   "metadata": {
    "collapsed": false,
    "ExecuteTime": {
     "end_time": "2024-07-05T09:48:45.987618Z",
     "start_time": "2024-07-05T09:48:45.983591Z"
    }
   },
   "id": "f8cb595fc1bf330c",
   "execution_count": 12
  },
  {
   "cell_type": "code",
   "outputs": [
    {
     "data": {
      "text/plain": "(50, 64)"
     },
     "execution_count": 13,
     "metadata": {},
     "output_type": "execute_result"
    }
   ],
   "source": [
    "all_task_data_emb[0].shape"
   ],
   "metadata": {
    "collapsed": false,
    "ExecuteTime": {
     "end_time": "2024-07-05T09:48:48.523212Z",
     "start_time": "2024-07-05T09:48:48.517088Z"
    }
   },
   "id": "8882f84736260bd8",
   "execution_count": 13
  },
  {
   "cell_type": "code",
   "outputs": [
    {
     "data": {
      "text/plain": "10"
     },
     "execution_count": 22,
     "metadata": {},
     "output_type": "execute_result"
    }
   ],
   "source": [
    "len(all_task_data_emb)"
   ],
   "metadata": {
    "collapsed": false,
    "ExecuteTime": {
     "end_time": "2024-07-05T09:53:51.947328Z",
     "start_time": "2024-07-05T09:53:51.942102Z"
    }
   },
   "id": "1fde1931bec9bc06",
   "execution_count": 22
  },
  {
   "cell_type": "code",
   "outputs": [
    {
     "data": {
      "text/plain": "(250, 64)"
     },
     "execution_count": 24,
     "metadata": {},
     "output_type": "execute_result"
    }
   ],
   "source": [
    "pre_trained_task_dataset = np.concatenate(all_task_data_emb[:5], axis=0)\n",
    "pre_trained_task_dataset.shape"
   ],
   "metadata": {
    "collapsed": false,
    "ExecuteTime": {
     "end_time": "2024-07-05T09:55:41.291369Z",
     "start_time": "2024-07-05T09:55:41.286180Z"
    }
   },
   "id": "a9e5eaca77f189bf",
   "execution_count": 24
  },
  {
   "cell_type": "code",
   "outputs": [
    {
     "data": {
      "text/plain": "(50, 64)"
     },
     "execution_count": 27,
     "metadata": {},
     "output_type": "execute_result"
    }
   ],
   "source": [
    "target_task_dataset = np.concatenate([all_task_data_emb[-1]], axis=0)\n",
    "target_task_dataset.shape"
   ],
   "metadata": {
    "collapsed": false,
    "ExecuteTime": {
     "end_time": "2024-07-05T09:57:03.510913Z",
     "start_time": "2024-07-05T09:57:03.507956Z"
    }
   },
   "id": "7361c9016d6bd429",
   "execution_count": 27
  },
  {
   "cell_type": "code",
   "outputs": [
    {
     "data": {
      "text/plain": "(300, 64)"
     },
     "execution_count": 28,
     "metadata": {},
     "output_type": "execute_result"
    }
   ],
   "source": [
    "pre_tsne_x = np.concatenate([pre_trained_task_dataset, target_task_dataset], axis=0)\n",
    "pre_tsne_x.shape"
   ],
   "metadata": {
    "collapsed": false,
    "ExecuteTime": {
     "end_time": "2024-07-05T09:57:39.752613Z",
     "start_time": "2024-07-05T09:57:39.748920Z"
    }
   },
   "id": "da6479d7a0dabd23",
   "execution_count": 28
  },
  {
   "cell_type": "code",
   "outputs": [
    {
     "data": {
      "text/plain": "300"
     },
     "execution_count": 33,
     "metadata": {},
     "output_type": "execute_result"
    }
   ],
   "source": [
    "pre_tsne_labels = labels[:50 * 5] + labels[-50:]\n",
    "len(pre_tsne_labels)"
   ],
   "metadata": {
    "collapsed": false,
    "ExecuteTime": {
     "end_time": "2024-07-05T09:59:21.537840Z",
     "start_time": "2024-07-05T09:59:21.534290Z"
    }
   },
   "id": "c9e2977c8b3cb5e1",
   "execution_count": 33
  },
  {
   "cell_type": "markdown",
   "source": [
    "# t-sne embedding visualization"
   ],
   "metadata": {
    "collapsed": false
   },
   "id": "7278eebc50c779b6"
  },
  {
   "cell_type": "code",
   "outputs": [],
   "source": [
    "from sklearn.manifold import TSNE"
   ],
   "metadata": {
    "collapsed": false,
    "ExecuteTime": {
     "end_time": "2024-07-05T09:48:55.004002Z",
     "start_time": "2024-07-05T09:48:54.782839Z"
    }
   },
   "id": "1a15a9e4ea2d4a7e",
   "execution_count": 15
  },
  {
   "cell_type": "code",
   "outputs": [
    {
     "data": {
      "text/plain": "(300, 2)"
     },
     "execution_count": 36,
     "metadata": {},
     "output_type": "execute_result"
    }
   ],
   "source": [
    "tsne = TSNE(n_components=2, random_state=42, perplexity=50., n_iter=5000)\n",
    "X_embedded = tsne.fit_transform(pre_tsne_x)\n",
    "X_embedded.shape"
   ],
   "metadata": {
    "collapsed": false,
    "ExecuteTime": {
     "end_time": "2024-07-05T10:00:00.369728Z",
     "start_time": "2024-07-05T09:59:59.501098Z"
    }
   },
   "id": "d2da08e4b8dc5e4e",
   "execution_count": 36
  },
  {
   "cell_type": "code",
   "outputs": [
    {
     "data": {
      "text/plain": "<Figure size 640x480 with 1 Axes>",
      "image/png": "[encoded data removed]"
     },
     "metadata": {},
     "output_type": "display_data"
    }
   ],
   "source": [
    "scatter = plt.scatter(X_embedded[:, 0], X_embedded[:, 1], c=pre_tsne_labels, cmap='viridis', alpha=0.7)\n",
    "legend1 = plt.legend(*scatter.legend_elements(), title=\"Classes\")\n"
   ],
   "metadata": {
    "collapsed": false,
    "ExecuteTime": {
     "end_time": "2024-07-05T10:00:02.011436Z",
     "start_time": "2024-07-05T10:00:01.805927Z"
    }
   },
   "id": "7bf073152520903c",
   "execution_count": 37
  },
  {
   "cell_type": "markdown",
   "source": [
    "# attention maps with perturbation "
   ],
   "metadata": {
    "collapsed": false
   },
   "id": "be1558f77fae2e"
  },
  {
   "cell_type": "code",
   "outputs": [],
   "source": [
    "from libero.lifelong.models.bc_transformer_policy import PerturbationAttention"
   ],
   "metadata": {
    "collapsed": false,
    "ExecuteTime": {
     "end_time": "2024-07-05T09:46:36.138252Z",
     "start_time": "2024-07-05T09:46:36.136279Z"
    }
   },
   "id": "87254e7f3a7f610e",
   "execution_count": 18
  },
  {
   "cell_type": "code",
   "outputs": [
    {
     "data": {
      "text/plain": "libero.lifelong.models.modules.rgb_modules.ResnetEncoder"
     },
     "execution_count": 19,
     "metadata": {},
     "output_type": "execute_result"
    }
   ],
   "source": [
    "type(model.image_encoders['agentview_rgb']['encoder'])"
   ],
   "metadata": {
    "collapsed": false,
    "ExecuteTime": {
     "end_time": "2024-07-05T09:46:36.145676Z",
     "start_time": "2024-07-05T09:46:36.138916Z"
    }
   },
   "id": "66b1dc10127a4774",
   "execution_count": 19
  },
  {
   "cell_type": "code",
   "outputs": [],
   "source": [
    "pert_model = PerturbationAttention(model.image_encoders['agentview_rgb']['encoder'])"
   ],
   "metadata": {
    "collapsed": false,
    "ExecuteTime": {
     "end_time": "2024-07-05T09:46:36.152661Z",
     "start_time": "2024-07-05T09:46:36.146570Z"
    }
   },
   "id": "d3372d57e7552fcb",
   "execution_count": 20
  },
  {
   "cell_type": "code",
   "outputs": [
    {
     "data": {
      "text/plain": "torch.Size([1, 3, 128, 128])"
     },
     "execution_count": 21,
     "metadata": {},
     "output_type": "execute_result"
    }
   ],
   "source": [
    "data0 = all_task_data[0]\n",
    "data0['obs']['agentview_rgb'] = data0['obs']['agentview_rgb'][0]\n",
    "data0['obs']['agentview_rgb'].shape"
   ],
   "metadata": {
    "collapsed": false,
    "ExecuteTime": {
     "end_time": "2024-07-05T09:46:36.156866Z",
     "start_time": "2024-07-05T09:46:36.153709Z"
    }
   },
   "id": "cccb3163ac9c7b4f",
   "execution_count": 21
  },
  {
   "cell_type": "code",
   "outputs": [],
   "source": [
    "att = pert_model(data0)"
   ],
   "metadata": {
    "collapsed": false,
    "ExecuteTime": {
     "end_time": "2024-07-05T09:46:36.430087Z",
     "start_time": "2024-07-05T09:46:36.160241Z"
    }
   },
   "id": "590fec001af58b05",
   "execution_count": 22
  },
  {
   "cell_type": "code",
   "outputs": [
    {
     "data": {
      "text/plain": "(1, 1, 128, 128)"
     },
     "execution_count": 23,
     "metadata": {},
     "output_type": "execute_result"
    }
   ],
   "source": [
    "att.shape"
   ],
   "metadata": {
    "collapsed": false,
    "ExecuteTime": {
     "end_time": "2024-07-05T09:46:36.434955Z",
     "start_time": "2024-07-05T09:46:36.431352Z"
    }
   },
   "id": "9694f55d88191a6d",
   "execution_count": 23
  },
  {
   "cell_type": "code",
   "outputs": [
    {
     "data": {
      "text/plain": "0.93847656"
     },
     "execution_count": 24,
     "metadata": {},
     "output_type": "execute_result"
    }
   ],
   "source": [
    "max(att[0, 0].reshape(1, -1)[0])"
   ],
   "metadata": {
    "collapsed": false,
    "ExecuteTime": {
     "end_time": "2024-07-05T09:46:36.440948Z",
     "start_time": "2024-07-05T09:46:36.436048Z"
    }
   },
   "id": "ea2e3d32762cb4e5",
   "execution_count": 24
  },
  {
   "cell_type": "code",
   "outputs": [
    {
     "data": {
      "text/plain": "<Figure size 640x480 with 2 Axes>",
      "image/png": "[encoded data removed]"
     },
     "metadata": {},
     "output_type": "display_data"
    }
   ],
   "source": [
    "import seaborn as sns\n",
    "import matplotlib.pyplot as plt\n",
    "import numpy as np\n",
    "\n",
    "# Create some data\n",
    "\n",
    "\n",
    "# Create the heatmap\n",
    "sns.heatmap(att[0, 0], cmap='viridis')\n",
    "\n",
    "plt.axis('off')\n",
    "# Show the plot\n",
    "plt.show()"
   ],
   "metadata": {
    "collapsed": false,
    "ExecuteTime": {
     "end_time": "2024-07-05T09:46:36.649598Z",
     "start_time": "2024-07-05T09:46:36.442020Z"
    }
   },
   "id": "9a7ab46f31be8a0b",
   "execution_count": 25
  }
 ],
 "metadata": {
  "kernelspec": {
   "display_name": "Python 3",
   "language": "python",
   "name": "python3"
  },
  "language_info": {
   "codemirror_mode": {
    "name": "ipython",
    "version": 2
   },
   "file_extension": ".py",
   "mimetype": "text/x-python",
   "name": "python",
   "nbconvert_exporter": "python",
   "pygments_lexer": "ipython2",
   "version": "2.7.6"
  }
 },
 "nbformat": 4,
 "nbformat_minor": 5
}
